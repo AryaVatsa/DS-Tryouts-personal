{
 "cells": [
  {
   "cell_type": "code",
   "execution_count": 75,
   "metadata": {},
   "outputs": [
    {
     "data": {
      "text/plain": [
       "array([0.19661193, 0.10499359, 0.04517666])"
      ]
     },
     "execution_count": 75,
     "metadata": {},
     "output_type": "execute_result"
    }
   ],
   "source": [
    "# tryng my own model with numpy \n",
    "# might try keras later\n",
    "import numpy as np\n",
    "import pandas as pd\n",
    "from math import e, inf, sqrt\n",
    "import random\n",
    "from PIL import Image\n",
    "import matplotlib.pyplot as plt\n",
    "\n",
    "# activation \n",
    "def sig(x):\n",
    "    y = 1/(1 + np.exp(-x))\n",
    "    return y\n",
    "\n",
    "# activation gradient\n",
    "def sigDeriv(x):\n",
    "    y = sig(x)*(1-sig(x))\n",
    "    return y\n",
    "x = np.array([1,2,3])\n",
    "sigDeriv(x)\n",
    "\n"
   ]
  },
  {
   "cell_type": "code",
   "execution_count": 76,
   "metadata": {},
   "outputs": [
    {
     "data": {
      "text/html": [
       "<div>\n",
       "<style scoped>\n",
       "    .dataframe tbody tr th:only-of-type {\n",
       "        vertical-align: middle;\n",
       "    }\n",
       "\n",
       "    .dataframe tbody tr th {\n",
       "        vertical-align: top;\n",
       "    }\n",
       "\n",
       "    .dataframe thead th {\n",
       "        text-align: right;\n",
       "    }\n",
       "</style>\n",
       "<table border=\"1\" class=\"dataframe\">\n",
       "  <thead>\n",
       "    <tr style=\"text-align: right;\">\n",
       "      <th></th>\n",
       "      <th>label</th>\n",
       "      <th>pixel0</th>\n",
       "      <th>pixel1</th>\n",
       "      <th>pixel2</th>\n",
       "      <th>pixel3</th>\n",
       "      <th>pixel4</th>\n",
       "      <th>pixel5</th>\n",
       "      <th>pixel6</th>\n",
       "      <th>pixel7</th>\n",
       "      <th>pixel8</th>\n",
       "      <th>...</th>\n",
       "      <th>pixel774</th>\n",
       "      <th>pixel775</th>\n",
       "      <th>pixel776</th>\n",
       "      <th>pixel777</th>\n",
       "      <th>pixel778</th>\n",
       "      <th>pixel779</th>\n",
       "      <th>pixel780</th>\n",
       "      <th>pixel781</th>\n",
       "      <th>pixel782</th>\n",
       "      <th>pixel783</th>\n",
       "    </tr>\n",
       "  </thead>\n",
       "  <tbody>\n",
       "    <tr>\n",
       "      <th>0</th>\n",
       "      <td>2</td>\n",
       "      <td>0</td>\n",
       "      <td>0</td>\n",
       "      <td>0</td>\n",
       "      <td>0</td>\n",
       "      <td>0</td>\n",
       "      <td>0</td>\n",
       "      <td>0</td>\n",
       "      <td>0</td>\n",
       "      <td>0</td>\n",
       "      <td>...</td>\n",
       "      <td>0</td>\n",
       "      <td>0</td>\n",
       "      <td>0</td>\n",
       "      <td>0</td>\n",
       "      <td>0</td>\n",
       "      <td>0</td>\n",
       "      <td>0</td>\n",
       "      <td>0</td>\n",
       "      <td>0</td>\n",
       "      <td>0</td>\n",
       "    </tr>\n",
       "    <tr>\n",
       "      <th>1</th>\n",
       "      <td>9</td>\n",
       "      <td>0</td>\n",
       "      <td>0</td>\n",
       "      <td>0</td>\n",
       "      <td>0</td>\n",
       "      <td>0</td>\n",
       "      <td>0</td>\n",
       "      <td>0</td>\n",
       "      <td>0</td>\n",
       "      <td>0</td>\n",
       "      <td>...</td>\n",
       "      <td>0</td>\n",
       "      <td>0</td>\n",
       "      <td>0</td>\n",
       "      <td>0</td>\n",
       "      <td>0</td>\n",
       "      <td>0</td>\n",
       "      <td>0</td>\n",
       "      <td>0</td>\n",
       "      <td>0</td>\n",
       "      <td>0</td>\n",
       "    </tr>\n",
       "    <tr>\n",
       "      <th>2</th>\n",
       "      <td>9</td>\n",
       "      <td>0</td>\n",
       "      <td>0</td>\n",
       "      <td>0</td>\n",
       "      <td>0</td>\n",
       "      <td>0</td>\n",
       "      <td>0</td>\n",
       "      <td>0</td>\n",
       "      <td>0</td>\n",
       "      <td>0</td>\n",
       "      <td>...</td>\n",
       "      <td>0</td>\n",
       "      <td>0</td>\n",
       "      <td>0</td>\n",
       "      <td>0</td>\n",
       "      <td>0</td>\n",
       "      <td>0</td>\n",
       "      <td>0</td>\n",
       "      <td>0</td>\n",
       "      <td>0</td>\n",
       "      <td>0</td>\n",
       "    </tr>\n",
       "    <tr>\n",
       "      <th>3</th>\n",
       "      <td>1</td>\n",
       "      <td>0</td>\n",
       "      <td>0</td>\n",
       "      <td>0</td>\n",
       "      <td>0</td>\n",
       "      <td>0</td>\n",
       "      <td>0</td>\n",
       "      <td>0</td>\n",
       "      <td>0</td>\n",
       "      <td>0</td>\n",
       "      <td>...</td>\n",
       "      <td>0</td>\n",
       "      <td>0</td>\n",
       "      <td>0</td>\n",
       "      <td>0</td>\n",
       "      <td>0</td>\n",
       "      <td>0</td>\n",
       "      <td>0</td>\n",
       "      <td>0</td>\n",
       "      <td>0</td>\n",
       "      <td>0</td>\n",
       "    </tr>\n",
       "    <tr>\n",
       "      <th>4</th>\n",
       "      <td>9</td>\n",
       "      <td>0</td>\n",
       "      <td>0</td>\n",
       "      <td>0</td>\n",
       "      <td>0</td>\n",
       "      <td>0</td>\n",
       "      <td>0</td>\n",
       "      <td>0</td>\n",
       "      <td>0</td>\n",
       "      <td>0</td>\n",
       "      <td>...</td>\n",
       "      <td>0</td>\n",
       "      <td>0</td>\n",
       "      <td>0</td>\n",
       "      <td>0</td>\n",
       "      <td>0</td>\n",
       "      <td>0</td>\n",
       "      <td>0</td>\n",
       "      <td>0</td>\n",
       "      <td>0</td>\n",
       "      <td>0</td>\n",
       "    </tr>\n",
       "    <tr>\n",
       "      <th>...</th>\n",
       "      <td>...</td>\n",
       "      <td>...</td>\n",
       "      <td>...</td>\n",
       "      <td>...</td>\n",
       "      <td>...</td>\n",
       "      <td>...</td>\n",
       "      <td>...</td>\n",
       "      <td>...</td>\n",
       "      <td>...</td>\n",
       "      <td>...</td>\n",
       "      <td>...</td>\n",
       "      <td>...</td>\n",
       "      <td>...</td>\n",
       "      <td>...</td>\n",
       "      <td>...</td>\n",
       "      <td>...</td>\n",
       "      <td>...</td>\n",
       "      <td>...</td>\n",
       "      <td>...</td>\n",
       "      <td>...</td>\n",
       "      <td>...</td>\n",
       "    </tr>\n",
       "    <tr>\n",
       "      <th>41995</th>\n",
       "      <td>0</td>\n",
       "      <td>0</td>\n",
       "      <td>0</td>\n",
       "      <td>0</td>\n",
       "      <td>0</td>\n",
       "      <td>0</td>\n",
       "      <td>0</td>\n",
       "      <td>0</td>\n",
       "      <td>0</td>\n",
       "      <td>0</td>\n",
       "      <td>...</td>\n",
       "      <td>0</td>\n",
       "      <td>0</td>\n",
       "      <td>0</td>\n",
       "      <td>0</td>\n",
       "      <td>0</td>\n",
       "      <td>0</td>\n",
       "      <td>0</td>\n",
       "      <td>0</td>\n",
       "      <td>0</td>\n",
       "      <td>0</td>\n",
       "    </tr>\n",
       "    <tr>\n",
       "      <th>41996</th>\n",
       "      <td>0</td>\n",
       "      <td>0</td>\n",
       "      <td>0</td>\n",
       "      <td>0</td>\n",
       "      <td>0</td>\n",
       "      <td>0</td>\n",
       "      <td>0</td>\n",
       "      <td>0</td>\n",
       "      <td>0</td>\n",
       "      <td>0</td>\n",
       "      <td>...</td>\n",
       "      <td>0</td>\n",
       "      <td>0</td>\n",
       "      <td>0</td>\n",
       "      <td>0</td>\n",
       "      <td>0</td>\n",
       "      <td>0</td>\n",
       "      <td>0</td>\n",
       "      <td>0</td>\n",
       "      <td>0</td>\n",
       "      <td>0</td>\n",
       "    </tr>\n",
       "    <tr>\n",
       "      <th>41997</th>\n",
       "      <td>4</td>\n",
       "      <td>0</td>\n",
       "      <td>0</td>\n",
       "      <td>0</td>\n",
       "      <td>0</td>\n",
       "      <td>0</td>\n",
       "      <td>0</td>\n",
       "      <td>0</td>\n",
       "      <td>0</td>\n",
       "      <td>0</td>\n",
       "      <td>...</td>\n",
       "      <td>0</td>\n",
       "      <td>0</td>\n",
       "      <td>0</td>\n",
       "      <td>0</td>\n",
       "      <td>0</td>\n",
       "      <td>0</td>\n",
       "      <td>0</td>\n",
       "      <td>0</td>\n",
       "      <td>0</td>\n",
       "      <td>0</td>\n",
       "    </tr>\n",
       "    <tr>\n",
       "      <th>41998</th>\n",
       "      <td>3</td>\n",
       "      <td>0</td>\n",
       "      <td>0</td>\n",
       "      <td>0</td>\n",
       "      <td>0</td>\n",
       "      <td>0</td>\n",
       "      <td>0</td>\n",
       "      <td>0</td>\n",
       "      <td>0</td>\n",
       "      <td>0</td>\n",
       "      <td>...</td>\n",
       "      <td>0</td>\n",
       "      <td>0</td>\n",
       "      <td>0</td>\n",
       "      <td>0</td>\n",
       "      <td>0</td>\n",
       "      <td>0</td>\n",
       "      <td>0</td>\n",
       "      <td>0</td>\n",
       "      <td>0</td>\n",
       "      <td>0</td>\n",
       "    </tr>\n",
       "    <tr>\n",
       "      <th>41999</th>\n",
       "      <td>1</td>\n",
       "      <td>0</td>\n",
       "      <td>0</td>\n",
       "      <td>0</td>\n",
       "      <td>0</td>\n",
       "      <td>0</td>\n",
       "      <td>0</td>\n",
       "      <td>0</td>\n",
       "      <td>0</td>\n",
       "      <td>0</td>\n",
       "      <td>...</td>\n",
       "      <td>0</td>\n",
       "      <td>0</td>\n",
       "      <td>0</td>\n",
       "      <td>0</td>\n",
       "      <td>0</td>\n",
       "      <td>0</td>\n",
       "      <td>0</td>\n",
       "      <td>0</td>\n",
       "      <td>0</td>\n",
       "      <td>0</td>\n",
       "    </tr>\n",
       "  </tbody>\n",
       "</table>\n",
       "<p>42000 rows × 785 columns</p>\n",
       "</div>"
      ],
      "text/plain": [
       "       label  pixel0  pixel1  pixel2  pixel3  pixel4  pixel5  pixel6  pixel7  \\\n",
       "0          2       0       0       0       0       0       0       0       0   \n",
       "1          9       0       0       0       0       0       0       0       0   \n",
       "2          9       0       0       0       0       0       0       0       0   \n",
       "3          1       0       0       0       0       0       0       0       0   \n",
       "4          9       0       0       0       0       0       0       0       0   \n",
       "...      ...     ...     ...     ...     ...     ...     ...     ...     ...   \n",
       "41995      0       0       0       0       0       0       0       0       0   \n",
       "41996      0       0       0       0       0       0       0       0       0   \n",
       "41997      4       0       0       0       0       0       0       0       0   \n",
       "41998      3       0       0       0       0       0       0       0       0   \n",
       "41999      1       0       0       0       0       0       0       0       0   \n",
       "\n",
       "       pixel8  ...  pixel774  pixel775  pixel776  pixel777  pixel778  \\\n",
       "0           0  ...         0         0         0         0         0   \n",
       "1           0  ...         0         0         0         0         0   \n",
       "2           0  ...         0         0         0         0         0   \n",
       "3           0  ...         0         0         0         0         0   \n",
       "4           0  ...         0         0         0         0         0   \n",
       "...       ...  ...       ...       ...       ...       ...       ...   \n",
       "41995       0  ...         0         0         0         0         0   \n",
       "41996       0  ...         0         0         0         0         0   \n",
       "41997       0  ...         0         0         0         0         0   \n",
       "41998       0  ...         0         0         0         0         0   \n",
       "41999       0  ...         0         0         0         0         0   \n",
       "\n",
       "       pixel779  pixel780  pixel781  pixel782  pixel783  \n",
       "0             0         0         0         0         0  \n",
       "1             0         0         0         0         0  \n",
       "2             0         0         0         0         0  \n",
       "3             0         0         0         0         0  \n",
       "4             0         0         0         0         0  \n",
       "...         ...       ...       ...       ...       ...  \n",
       "41995         0         0         0         0         0  \n",
       "41996         0         0         0         0         0  \n",
       "41997         0         0         0         0         0  \n",
       "41998         0         0         0         0         0  \n",
       "41999         0         0         0         0         0  \n",
       "\n",
       "[42000 rows x 785 columns]"
      ]
     },
     "execution_count": 76,
     "metadata": {},
     "output_type": "execute_result"
    }
   ],
   "source": [
    "dat = pd.read_csv(\"handwritten digits (images).csv\",dtype=int)\n",
    "numOfDatasets = len(dat)\n",
    "dat = dat.sample(frac=1).reset_index(inplace=False, drop=True)\n",
    "dat"
   ]
  },
  {
   "cell_type": "code",
   "execution_count": 77,
   "metadata": {},
   "outputs": [
    {
     "data": {
      "text/plain": [
       "123.64887034679117"
      ]
     },
     "execution_count": 77,
     "metadata": {},
     "output_type": "execute_result"
    }
   ],
   "source": [
    "\n",
    "TrainingData = pd.DataFrame(dat.iloc[:, 1:]).to_numpy(copy=True, dtype=np.int32)\n",
    "\n",
    "# normalise data (make mean 0 and std 1)\n",
    "mean = np.mean(TrainingData)\n",
    "std = np.std(TrainingData)\n",
    "TrainingData = (TrainingData - mean)/std\n",
    "sum(TrainingData[0,:])"
   ]
  },
  {
   "cell_type": "code",
   "execution_count": 78,
   "metadata": {},
   "outputs": [
    {
     "name": "stdout",
     "output_type": "stream",
     "text": [
      "correct ans: 9\n"
     ]
    },
    {
     "data": {
      "image/png": "[encoded data removed]",
      "text/plain": [
       "<Figure size 640x480 with 1 Axes>"
      ]
     },
     "metadata": {},
     "output_type": "display_data"
    }
   ],
   "source": [
    "# used to test later \n",
    "def DataColToImage(x):\n",
    "    image = Image.fromarray(TrainingData[x, :].reshape(28,28)* std + mean)\n",
    "    plt.imshow(image)\n",
    "    print(\"correct ans:\", dat.iloc[x, 0])\n",
    "DataColToImage(random.randint(0,42000))"
   ]
  },
  {
   "cell_type": "code",
   "execution_count": 79,
   "metadata": {},
   "outputs": [
    {
     "data": {
      "text/plain": [
       "(784,)"
      ]
     },
     "execution_count": 79,
     "metadata": {},
     "output_type": "execute_result"
    }
   ],
   "source": [
    "TrainingData[1, :].shape"
   ]
  },
  {
   "cell_type": "code",
   "execution_count": 80,
   "metadata": {},
   "outputs": [
    {
     "name": "stdout",
     "output_type": "stream",
     "text": [
      "6000\n"
     ]
    }
   ],
   "source": [
    "# separate training and test data by indexes \n",
    "testNum = 6000\n",
    "allIndex = list(range(0,42000))\n",
    "trainIndex = []\n",
    "for i in range(0, 42000 - testNum):\n",
    "    x = random.randint(0, len(allIndex) - 1)\n",
    "    trainIndex.append(allIndex[x])\n",
    "    allIndex.pop(x)\n",
    "testIndex = allIndex\n",
    "print(len(testIndex))"
   ]
  },
  {
   "cell_type": "code",
   "execution_count": 81,
   "metadata": {},
   "outputs": [
    {
     "data": {
      "text/plain": [
       "(1, 3)"
      ]
     },
     "execution_count": 81,
     "metadata": {},
     "output_type": "execute_result"
    }
   ],
   "source": [
    "x = np.array([[1,2,3],\n",
    "              [1,2,3]])\n",
    "\n",
    "y = np.array([[1,2,3]])\n",
    "\n",
    "y.shape"
   ]
  },
  {
   "cell_type": "code",
   "execution_count": 82,
   "metadata": {},
   "outputs": [
    {
     "name": "stdout",
     "output_type": "stream",
     "text": [
      "(70, 784) (90, 70) (10, 90)\n"
     ]
    },
    {
     "data": {
      "text/plain": [
       "array([[0.4886488 , 0.62001137, 0.39264087, ..., 0.47985887, 0.5806129 ,\n",
       "        0.59130164],\n",
       "       [0.61810349, 0.43425962, 0.523918  , ..., 0.62117341, 0.44350608,\n",
       "        0.52838844],\n",
       "       [0.39273742, 0.38876736, 0.50235112, ..., 0.43668837, 0.55796745,\n",
       "        0.58141428],\n",
       "       ...,\n",
       "       [0.56091901, 0.51988579, 0.58920483, ..., 0.62150175, 0.46481233,\n",
       "        0.53388011],\n",
       "       [0.61397898, 0.57127194, 0.61552088, ..., 0.58430968, 0.43882959,\n",
       "        0.3881787 ],\n",
       "       [0.60478964, 0.60041261, 0.39889671, ..., 0.38600745, 0.5180302 ,\n",
       "        0.47701603]])"
      ]
     },
     "execution_count": 82,
     "metadata": {},
     "output_type": "execute_result"
    }
   ],
   "source": [
    "inputNumber = 784\n",
    "Hidden1NeuronCount = 70\n",
    "Hidden2NeuronCount = 90 \n",
    "outputCount = 10\n",
    "learningRate = 0.1\n",
    "\n",
    "# all weights from each row will lead to same neuron of the next layer \n",
    "# all weights from same column will act on same neuron of current layer\n",
    "# first row weights are all weights that lead to first neuron in the next layer, etc\n",
    "# first column weights are all weights that act on first neuron of current layer \n",
    "# weight.T = [all weights that act on first neuron of current layer]\n",
    "#          [all weights that act on second neuron of current layer], etc...\n",
    "# weight = [all weights that lead to first neuron of next layer]\n",
    "#            [all weights that lead to second neuron of next layer], etc... \n",
    "# data will be a single column\n",
    "# next layer calculated will be single column with all neurons (good)\n",
    "# h,g,f,H,G,F == inactivated and activated hidden layers and final layers respectively\n",
    "\n",
    "weights1 = np.random.uniform(-0.5,0.5,(Hidden1NeuronCount, inputNumber))\n",
    "weights2 = np.random.uniform(-0.5,0.5,(Hidden2NeuronCount, Hidden1NeuronCount))\n",
    "weights3 = np.random.uniform(-0.5,0.5,(outputCount, Hidden2NeuronCount))\n",
    "\n",
    "biases1 = np.random.uniform(-0.1,0.1,(Hidden1NeuronCount, 1))\n",
    "biases2 = np.random.uniform(-0.2,0.2,(Hidden2NeuronCount, 1))\n",
    "biases3 = np.random.uniform(-0.3,0.3,(outputCount,1))\n",
    "\n",
    "print(weights1.shape, weights2.shape, weights3.shape)\n",
    "sig(weights1)"
   ]
  },
  {
   "cell_type": "code",
   "execution_count": 83,
   "metadata": {},
   "outputs": [],
   "source": [
    "def softmax(x):\n",
    "    return np.exp(x) / np.sum(np.exp(x))\n",
    "\n",
    "def test():\n",
    "    # single test\n",
    "    randomTest = testIndex[random.randint(0, testNum-1)] # only uses testdata for testing dont use data that will be iused in raining \n",
    "    prams = forwardProp(randomTest, weights1, weights2, weights3, biases1, biases2, biases3)\n",
    "    modelAns, hidden1, hidden2, finallayer, UnactivatedHidden1, UnativatedHidden2, UnactivatedFinalLayer, data = prams\n",
    "    ans = finallayer\n",
    "    cost = np.sum((modelAns - finallayer)**2)\n",
    "    DataColToImage(randomTest)\n",
    "    print(\"predicted:\", ans.argmax())\n",
    "    return ans\n",
    "\n",
    "def testMany():\n",
    "    # test a bunch for accuracy calculations \n",
    "    correct = 0\n",
    "    wrong = 0\n",
    "    for i in range(0, testNum):\n",
    "        singleTest = testIndex[i] # only uses testdata for testing dont use data that will be used in training\n",
    "        finallayer = forwardProp(singleTest, weights1, weights2, weights3, biases1, biases2, biases3)[3]\n",
    "        ans = softmax(finallayer)\n",
    "        pred = ans.argmax()\n",
    "        corr = int(dat.iloc[singleTest, 0])\n",
    "        if pred == corr:\n",
    "            correct += 1\n",
    "        else:\n",
    "            wrong += 1\n",
    "    print(\"accuracy:\", str((correct/(correct + wrong))*100) + \"%\" , flush=False)\n",
    "\n"
   ]
  },
  {
   "cell_type": "code",
   "execution_count": 84,
   "metadata": {},
   "outputs": [
    {
     "data": {
      "text/plain": [
       "(10, 1)"
      ]
     },
     "execution_count": 84,
     "metadata": {},
     "output_type": "execute_result"
    }
   ],
   "source": [
    "def forwardProp(x, weight1, weight2, weight3, bias1, bias2, bias3):\n",
    "    # forward propagation \n",
    "    data = TrainingData[x,:].reshape(inputNumber,1)\n",
    "    \n",
    "    UnactivatedHidden1 = np.dot(weight1, data)\n",
    "    hidden1 = sig(UnactivatedHidden1) + bias1\n",
    "\n",
    "    UnativatedHidden2 = np.dot(weight2, hidden1)\n",
    "    hidden2 = sig(UnativatedHidden2) + bias2\n",
    "\n",
    "    UnactivatedFinalLayer = np.dot(weight3, hidden2)\n",
    "    finalLayer = sig(UnactivatedFinalLayer) + bias3\n",
    "\n",
    "    correctAns = dat.iloc[x,0]\n",
    "    modelAns = np.zeros((1,outputCount)) # create empty array\n",
    "    modelAns[0,correctAns] = 1 # make the correct index become 1 rest remain 0\n",
    "    return [modelAns, hidden1, hidden2, finalLayer, UnactivatedHidden1, UnativatedHidden2, UnactivatedFinalLayer, data]\n",
    "\n",
    "forwardProp(41999, weights1, weights2, weights3, biases1, biases2, biases3)[3].shape"
   ]
  },
  {
   "cell_type": "code",
   "execution_count": 85,
   "metadata": {},
   "outputs": [
    {
     "data": {
      "text/plain": [
       "array([[ 0.04456749],\n",
       "       [-0.00339674],\n",
       "       [-0.08482182],\n",
       "       [-0.22006807],\n",
       "       [ 0.23764697],\n",
       "       [-0.06709153],\n",
       "       [ 0.24322657],\n",
       "       [ 0.29971616],\n",
       "       [-0.01368421],\n",
       "       [ 0.1430043 ]])"
      ]
     },
     "execution_count": 85,
     "metadata": {},
     "output_type": "execute_result"
    }
   ],
   "source": [
    "biases3\n",
    "\n"
   ]
  },
  {
   "cell_type": "code",
   "execution_count": 86,
   "metadata": {},
   "outputs": [
    {
     "data": {
      "text/plain": [
       "array([2, 4, 6])"
      ]
     },
     "execution_count": 86,
     "metadata": {},
     "output_type": "execute_result"
    }
   ],
   "source": [
    "x = np.array(([1,2,3],\n",
    "             [1,2,3]))\n",
    "np.sum(x, 0)"
   ]
  },
  {
   "cell_type": "code",
   "execution_count": 87,
   "metadata": {},
   "outputs": [
    {
     "data": {
      "text/plain": [
       "0.47365285638607507"
      ]
     },
     "execution_count": 87,
     "metadata": {},
     "output_type": "execute_result"
    }
   ],
   "source": [
    "# optimise weights \n",
    "def backProp(params):\n",
    "# h,g,f,H,G,F == inactivated and activated hidden layers and final layers respectively\n",
    "    global weights1, weights2, weights3, biases1, biases2, biases3\n",
    "    modelAns, H, G, F, h, g, f, data = params\n",
    "    modelAns = modelAns.reshape(outputCount,1)\n",
    "    cost = np.mean((modelAns - F)**2)\n",
    "    \n",
    "    \n",
    "    dCdF = -2*(modelAns - F)\n",
    "    dCdf = dCdF * sigDeriv(f)\n",
    "\n",
    "    dCdG = np.sum(dCdf * weights3, 0).reshape(Hidden2NeuronCount,1)\n",
    "\n",
    "    dCostdWeights3 = np.ones_like(weights3) * G.reshape(1, Hidden2NeuronCount) * dCdf\n",
    "    \n",
    "    dGdg = sigDeriv(g)\n",
    "\n",
    "    dCdH = np.sum((dGdg * dCdG) * weights2, 0).reshape(Hidden1NeuronCount,1)\n",
    "\n",
    "    dCostdWeights2 = np.ones_like(weights2) * H.reshape(1, Hidden1NeuronCount) * dCdG * dGdg\n",
    "\n",
    "    dHdh = sigDeriv(h)\n",
    "\n",
    "    dCostdWeights1 = np.ones_like(weights1) * data.reshape(1, inputNumber) * dCdH * dHdh\n",
    "\n",
    "    dCostdBiases3 = dCdF \n",
    "    dCostdBiases2 = dCdG \n",
    "    dCostdBiases1 = dCdH\n",
    "    weights3 -= dCostdWeights3 * learningRate\n",
    "    weights2 -= dCostdWeights2 * learningRate\n",
    "    weights1 -= dCostdWeights1 * learningRate\n",
    "    biases3 -= dCostdBiases3 * learningRate\n",
    "    biases2 -= dCostdBiases2 * learningRate\n",
    "    biases1 -= dCostdBiases1 * learningRate\n",
    "    return cost\n",
    "\n",
    "backProp(forwardProp(3, weights1, weights2, weights3, biases1, biases2, biases3))"
   ]
  },
  {
   "cell_type": "code",
   "execution_count": 90,
   "metadata": {},
   "outputs": [
    {
     "name": "stdout",
     "output_type": "stream",
     "text": [
      "0. cost =  0.26674826276729735\n",
      "1000. cost =  0.13369566708492903\n",
      "2000. cost =  0.01564894246574793\n",
      "3000. cost =  0.0007383738333508066\n",
      "4000. cost =  0.003469713270320826\n",
      "5000. cost =  0.099935041776094\n",
      "6000. cost =  0.008914564107480538\n",
      "7000. cost =  0.012274007919277014\n",
      "8000. cost =  0.00061587808295422\n",
      "9000. cost =  0.0010661245446708285\n",
      "10000. cost =  0.0003363954508036506\n",
      "11000. cost =  0.1997177725419157\n",
      "12000. cost =  0.0012304759951182265\n",
      "13000. cost =  0.0006808256914003891\n",
      "14000. cost =  0.002183346456979376\n",
      "15000. cost =  0.004622488411348483\n",
      "16000. cost =  0.000295201597051255\n",
      "17000. cost =  0.005325008860181132\n",
      "18000. cost =  0.0050232734306712035\n",
      "19000. cost =  0.001393934490272756\n",
      "20000. cost =  0.055202608980117585\n",
      "21000. cost =  0.003549151601713587\n",
      "22000. cost =  0.0011874786633884454\n",
      "23000. cost =  0.10984669174782291\n",
      "24000. cost =  0.025330006614131186\n",
      "25000. cost =  0.0005043393863449394\n",
      "26000. cost =  0.0008334131189233201\n",
      "27000. cost =  0.004237307585044373\n",
      "28000. cost =  0.0033197825244459397\n",
      "29000. cost =  0.00014617386261233883\n",
      "30000. cost =  0.00236543522330574\n",
      "31000. cost =  0.004543081820955887\n",
      "32000. cost =  0.00114419050177471\n",
      "33000. cost =  0.00023441972689684817\n",
      "34000. cost =  0.07992084756876797\n",
      "35000. cost =  0.007024433860643759\n"
     ]
    }
   ],
   "source": [
    "# train of some data \n",
    "for i in range(42000 - testNum):\n",
    "    x = trainIndex[i] # dont train on testdata\n",
    "    cost = backProp(forwardProp(x, weights1, weights2, weights3, biases1, biases2, biases3))\n",
    "    if i%1000 ==0: # every 1000 iteration print cost \n",
    "        print(f\"{i}. cost = \", cost)\n"
   ]
  },
  {
   "cell_type": "code",
   "execution_count": 50,
   "metadata": {},
   "outputs": [
    {
     "name": "stdout",
     "output_type": "stream",
     "text": [
      "correct ans: 4\n",
      "predicted: 4\n"
     ]
    },
    {
     "data": {
      "text/plain": [
       "array([[ 0.16335357],\n",
       "       [-0.00748138],\n",
       "       [-0.00515392],\n",
       "       [-0.03529342],\n",
       "       [ 0.99202383],\n",
       "       [-0.00179962],\n",
       "       [-0.06959302],\n",
       "       [ 0.01278361],\n",
       "       [-0.00116927],\n",
       "       [ 0.00756975]])"
      ]
     },
     "execution_count": 50,
     "metadata": {},
     "output_type": "execute_result"
    },
    {
     "data": {
      "image/png": "[encoded data removed]",
      "text/plain": [
       "<Figure size 640x480 with 1 Axes>"
      ]
     },
     "metadata": {},
     "output_type": "display_data"
    }
   ],
   "source": [
    "test() # do one to visualise \n"
   ]
  },
  {
   "cell_type": "code",
   "execution_count": 51,
   "metadata": {},
   "outputs": [
    {
     "name": "stdout",
     "output_type": "stream",
     "text": [
      "accuracy: 92.95%\n"
     ]
    }
   ],
   "source": [
    "testMany() # do many for accuracy calculation "
   ]
  },
  {
   "cell_type": "code",
   "execution_count": null,
   "metadata": {},
   "outputs": [],
   "source": []
  },
  {
   "cell_type": "code",
   "execution_count": null,
   "metadata": {},
   "outputs": [],
   "source": []
  },
  {
   "cell_type": "code",
   "execution_count": null,
   "metadata": {},
   "outputs": [],
   "source": []
  },
  {
   "cell_type": "code",
   "execution_count": null,
   "metadata": {},
   "outputs": [],
   "source": []
  }
 ],
 "metadata": {
  "kernelspec": {
   "display_name": "Python 3",
   "language": "python",
   "name": "python3"
  },
  "language_info": {
   "codemirror_mode": {
    "name": "ipython",
    "version": 3
   },
   "file_extension": ".py",
   "mimetype": "text/x-python",
   "name": "python",
   "nbconvert_exporter": "python",
   "pygments_lexer": "ipython3",
   "version": "3.12.1"
  }
 },
 "nbformat": 4,
 "nbformat_minor": 2
}
