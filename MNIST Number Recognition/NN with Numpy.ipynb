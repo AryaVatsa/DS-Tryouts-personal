{
 "cells": [
  {
   "cell_type": "code",
   "execution_count": 21,
   "metadata": {},
   "outputs": [
    {
     "data": {
      "text/plain": [
       "array([0.19661193, 0.10499359, 0.04517666])"
      ]
     },
     "execution_count": 21,
     "metadata": {},
     "output_type": "execute_result"
    }
   ],
   "source": [
    "# tryng my own model with numpy \n",
    "# might try keras later\n",
    "import numpy as np\n",
    "import pandas as pd\n",
    "from math import e, inf, sqrt\n",
    "import random\n",
    "from PIL import Image\n",
    "import matplotlib.pyplot as plt\n",
    "\n",
    "# activation \n",
    "def sig(x):\n",
    "    y = 1/(1 + np.exp(-x))\n",
    "    return y\n",
    "\n",
    "# activation gradient\n",
    "def sigDeriv(x):\n",
    "    y = sig(x)*(1-sig(x))\n",
    "    return y\n",
    "x = np.array([1,2,3])\n",
    "sigDeriv(x)\n",
    "\n"
   ]
  },
  {
   "cell_type": "code",
   "execution_count": 22,
   "metadata": {},
   "outputs": [
    {
     "data": {
      "text/html": [
       "<div>\n",
       "<style scoped>\n",
       "    .dataframe tbody tr th:only-of-type {\n",
       "        vertical-align: middle;\n",
       "    }\n",
       "\n",
       "    .dataframe tbody tr th {\n",
       "        vertical-align: top;\n",
       "    }\n",
       "\n",
       "    .dataframe thead th {\n",
       "        text-align: right;\n",
       "    }\n",
       "</style>\n",
       "<table border=\"1\" class=\"dataframe\">\n",
       "  <thead>\n",
       "    <tr style=\"text-align: right;\">\n",
       "      <th></th>\n",
       "      <th>label</th>\n",
       "      <th>pixel0</th>\n",
       "      <th>pixel1</th>\n",
       "      <th>pixel2</th>\n",
       "      <th>pixel3</th>\n",
       "      <th>pixel4</th>\n",
       "      <th>pixel5</th>\n",
       "      <th>pixel6</th>\n",
       "      <th>pixel7</th>\n",
       "      <th>pixel8</th>\n",
       "      <th>...</th>\n",
       "      <th>pixel774</th>\n",
       "      <th>pixel775</th>\n",
       "      <th>pixel776</th>\n",
       "      <th>pixel777</th>\n",
       "      <th>pixel778</th>\n",
       "      <th>pixel779</th>\n",
       "      <th>pixel780</th>\n",
       "      <th>pixel781</th>\n",
       "      <th>pixel782</th>\n",
       "      <th>pixel783</th>\n",
       "    </tr>\n",
       "  </thead>\n",
       "  <tbody>\n",
       "    <tr>\n",
       "      <th>0</th>\n",
       "      <td>1</td>\n",
       "      <td>1</td>\n",
       "      <td>0</td>\n",
       "      <td>0</td>\n",
       "      <td>0</td>\n",
       "      <td>0</td>\n",
       "      <td>0</td>\n",
       "      <td>0</td>\n",
       "      <td>0</td>\n",
       "      <td>0</td>\n",
       "      <td>...</td>\n",
       "      <td>0</td>\n",
       "      <td>0</td>\n",
       "      <td>0</td>\n",
       "      <td>0</td>\n",
       "      <td>0</td>\n",
       "      <td>0</td>\n",
       "      <td>0</td>\n",
       "      <td>0</td>\n",
       "      <td>0</td>\n",
       "      <td>0</td>\n",
       "    </tr>\n",
       "    <tr>\n",
       "      <th>1</th>\n",
       "      <td>0</td>\n",
       "      <td>0</td>\n",
       "      <td>0</td>\n",
       "      <td>0</td>\n",
       "      <td>0</td>\n",
       "      <td>0</td>\n",
       "      <td>0</td>\n",
       "      <td>0</td>\n",
       "      <td>0</td>\n",
       "      <td>0</td>\n",
       "      <td>...</td>\n",
       "      <td>0</td>\n",
       "      <td>0</td>\n",
       "      <td>0</td>\n",
       "      <td>0</td>\n",
       "      <td>0</td>\n",
       "      <td>0</td>\n",
       "      <td>0</td>\n",
       "      <td>0</td>\n",
       "      <td>0</td>\n",
       "      <td>0</td>\n",
       "    </tr>\n",
       "    <tr>\n",
       "      <th>2</th>\n",
       "      <td>1</td>\n",
       "      <td>0</td>\n",
       "      <td>0</td>\n",
       "      <td>0</td>\n",
       "      <td>0</td>\n",
       "      <td>0</td>\n",
       "      <td>0</td>\n",
       "      <td>0</td>\n",
       "      <td>0</td>\n",
       "      <td>0</td>\n",
       "      <td>...</td>\n",
       "      <td>0</td>\n",
       "      <td>0</td>\n",
       "      <td>0</td>\n",
       "      <td>0</td>\n",
       "      <td>0</td>\n",
       "      <td>0</td>\n",
       "      <td>0</td>\n",
       "      <td>0</td>\n",
       "      <td>0</td>\n",
       "      <td>0</td>\n",
       "    </tr>\n",
       "    <tr>\n",
       "      <th>3</th>\n",
       "      <td>4</td>\n",
       "      <td>0</td>\n",
       "      <td>0</td>\n",
       "      <td>0</td>\n",
       "      <td>0</td>\n",
       "      <td>0</td>\n",
       "      <td>0</td>\n",
       "      <td>0</td>\n",
       "      <td>0</td>\n",
       "      <td>0</td>\n",
       "      <td>...</td>\n",
       "      <td>0</td>\n",
       "      <td>0</td>\n",
       "      <td>0</td>\n",
       "      <td>0</td>\n",
       "      <td>0</td>\n",
       "      <td>0</td>\n",
       "      <td>0</td>\n",
       "      <td>0</td>\n",
       "      <td>0</td>\n",
       "      <td>0</td>\n",
       "    </tr>\n",
       "    <tr>\n",
       "      <th>4</th>\n",
       "      <td>0</td>\n",
       "      <td>0</td>\n",
       "      <td>0</td>\n",
       "      <td>0</td>\n",
       "      <td>0</td>\n",
       "      <td>0</td>\n",
       "      <td>0</td>\n",
       "      <td>0</td>\n",
       "      <td>0</td>\n",
       "      <td>0</td>\n",
       "      <td>...</td>\n",
       "      <td>0</td>\n",
       "      <td>0</td>\n",
       "      <td>0</td>\n",
       "      <td>0</td>\n",
       "      <td>0</td>\n",
       "      <td>0</td>\n",
       "      <td>0</td>\n",
       "      <td>0</td>\n",
       "      <td>0</td>\n",
       "      <td>0</td>\n",
       "    </tr>\n",
       "    <tr>\n",
       "      <th>...</th>\n",
       "      <td>...</td>\n",
       "      <td>...</td>\n",
       "      <td>...</td>\n",
       "      <td>...</td>\n",
       "      <td>...</td>\n",
       "      <td>...</td>\n",
       "      <td>...</td>\n",
       "      <td>...</td>\n",
       "      <td>...</td>\n",
       "      <td>...</td>\n",
       "      <td>...</td>\n",
       "      <td>...</td>\n",
       "      <td>...</td>\n",
       "      <td>...</td>\n",
       "      <td>...</td>\n",
       "      <td>...</td>\n",
       "      <td>...</td>\n",
       "      <td>...</td>\n",
       "      <td>...</td>\n",
       "      <td>...</td>\n",
       "      <td>...</td>\n",
       "    </tr>\n",
       "    <tr>\n",
       "      <th>41995</th>\n",
       "      <td>0</td>\n",
       "      <td>0</td>\n",
       "      <td>0</td>\n",
       "      <td>0</td>\n",
       "      <td>0</td>\n",
       "      <td>0</td>\n",
       "      <td>0</td>\n",
       "      <td>0</td>\n",
       "      <td>0</td>\n",
       "      <td>0</td>\n",
       "      <td>...</td>\n",
       "      <td>0</td>\n",
       "      <td>0</td>\n",
       "      <td>0</td>\n",
       "      <td>0</td>\n",
       "      <td>0</td>\n",
       "      <td>0</td>\n",
       "      <td>0</td>\n",
       "      <td>0</td>\n",
       "      <td>0</td>\n",
       "      <td>0</td>\n",
       "    </tr>\n",
       "    <tr>\n",
       "      <th>41996</th>\n",
       "      <td>1</td>\n",
       "      <td>0</td>\n",
       "      <td>0</td>\n",
       "      <td>0</td>\n",
       "      <td>0</td>\n",
       "      <td>0</td>\n",
       "      <td>0</td>\n",
       "      <td>0</td>\n",
       "      <td>0</td>\n",
       "      <td>0</td>\n",
       "      <td>...</td>\n",
       "      <td>0</td>\n",
       "      <td>0</td>\n",
       "      <td>0</td>\n",
       "      <td>0</td>\n",
       "      <td>0</td>\n",
       "      <td>0</td>\n",
       "      <td>0</td>\n",
       "      <td>0</td>\n",
       "      <td>0</td>\n",
       "      <td>0</td>\n",
       "    </tr>\n",
       "    <tr>\n",
       "      <th>41997</th>\n",
       "      <td>7</td>\n",
       "      <td>0</td>\n",
       "      <td>0</td>\n",
       "      <td>0</td>\n",
       "      <td>0</td>\n",
       "      <td>0</td>\n",
       "      <td>0</td>\n",
       "      <td>0</td>\n",
       "      <td>0</td>\n",
       "      <td>0</td>\n",
       "      <td>...</td>\n",
       "      <td>0</td>\n",
       "      <td>0</td>\n",
       "      <td>0</td>\n",
       "      <td>0</td>\n",
       "      <td>0</td>\n",
       "      <td>0</td>\n",
       "      <td>0</td>\n",
       "      <td>0</td>\n",
       "      <td>0</td>\n",
       "      <td>0</td>\n",
       "    </tr>\n",
       "    <tr>\n",
       "      <th>41998</th>\n",
       "      <td>6</td>\n",
       "      <td>0</td>\n",
       "      <td>0</td>\n",
       "      <td>0</td>\n",
       "      <td>0</td>\n",
       "      <td>0</td>\n",
       "      <td>0</td>\n",
       "      <td>0</td>\n",
       "      <td>0</td>\n",
       "      <td>0</td>\n",
       "      <td>...</td>\n",
       "      <td>0</td>\n",
       "      <td>0</td>\n",
       "      <td>0</td>\n",
       "      <td>0</td>\n",
       "      <td>0</td>\n",
       "      <td>0</td>\n",
       "      <td>0</td>\n",
       "      <td>0</td>\n",
       "      <td>0</td>\n",
       "      <td>0</td>\n",
       "    </tr>\n",
       "    <tr>\n",
       "      <th>41999</th>\n",
       "      <td>9</td>\n",
       "      <td>0</td>\n",
       "      <td>0</td>\n",
       "      <td>0</td>\n",
       "      <td>0</td>\n",
       "      <td>0</td>\n",
       "      <td>0</td>\n",
       "      <td>0</td>\n",
       "      <td>0</td>\n",
       "      <td>0</td>\n",
       "      <td>...</td>\n",
       "      <td>0</td>\n",
       "      <td>0</td>\n",
       "      <td>0</td>\n",
       "      <td>0</td>\n",
       "      <td>0</td>\n",
       "      <td>0</td>\n",
       "      <td>0</td>\n",
       "      <td>0</td>\n",
       "      <td>0</td>\n",
       "      <td>0</td>\n",
       "    </tr>\n",
       "  </tbody>\n",
       "</table>\n",
       "<p>42000 rows × 785 columns</p>\n",
       "</div>"
      ],
      "text/plain": [
       "       label  pixel0  pixel1  pixel2  pixel3  pixel4  pixel5  pixel6  pixel7  \\\n",
       "0          1       1       0       0       0       0       0       0       0   \n",
       "1          0       0       0       0       0       0       0       0       0   \n",
       "2          1       0       0       0       0       0       0       0       0   \n",
       "3          4       0       0       0       0       0       0       0       0   \n",
       "4          0       0       0       0       0       0       0       0       0   \n",
       "...      ...     ...     ...     ...     ...     ...     ...     ...     ...   \n",
       "41995      0       0       0       0       0       0       0       0       0   \n",
       "41996      1       0       0       0       0       0       0       0       0   \n",
       "41997      7       0       0       0       0       0       0       0       0   \n",
       "41998      6       0       0       0       0       0       0       0       0   \n",
       "41999      9       0       0       0       0       0       0       0       0   \n",
       "\n",
       "       pixel8  ...  pixel774  pixel775  pixel776  pixel777  pixel778  \\\n",
       "0           0  ...         0         0         0         0         0   \n",
       "1           0  ...         0         0         0         0         0   \n",
       "2           0  ...         0         0         0         0         0   \n",
       "3           0  ...         0         0         0         0         0   \n",
       "4           0  ...         0         0         0         0         0   \n",
       "...       ...  ...       ...       ...       ...       ...       ...   \n",
       "41995       0  ...         0         0         0         0         0   \n",
       "41996       0  ...         0         0         0         0         0   \n",
       "41997       0  ...         0         0         0         0         0   \n",
       "41998       0  ...         0         0         0         0         0   \n",
       "41999       0  ...         0         0         0         0         0   \n",
       "\n",
       "       pixel779  pixel780  pixel781  pixel782  pixel783  \n",
       "0             0         0         0         0         0  \n",
       "1             0         0         0         0         0  \n",
       "2             0         0         0         0         0  \n",
       "3             0         0         0         0         0  \n",
       "4             0         0         0         0         0  \n",
       "...         ...       ...       ...       ...       ...  \n",
       "41995         0         0         0         0         0  \n",
       "41996         0         0         0         0         0  \n",
       "41997         0         0         0         0         0  \n",
       "41998         0         0         0         0         0  \n",
       "41999         0         0         0         0         0  \n",
       "\n",
       "[42000 rows x 785 columns]"
      ]
     },
     "execution_count": 22,
     "metadata": {},
     "output_type": "execute_result"
    }
   ],
   "source": [
    "dat = pd.read_csv(\"handwritten digits (images).csv\",dtype=int)\n",
    "numOfDatasets = len(dat)\n",
    "dat"
   ]
  },
  {
   "cell_type": "code",
   "execution_count": 23,
   "metadata": {},
   "outputs": [
    {
     "data": {
      "text/plain": [
       "-121.28699186719702"
      ]
     },
     "execution_count": 23,
     "metadata": {},
     "output_type": "execute_result"
    }
   ],
   "source": [
    "TrainingData = pd.DataFrame(dat.iloc[:, 1:]).to_numpy(copy=True, dtype=np.int32)\n",
    "\n",
    "# normalise data (make mean 0 and std 1)\n",
    "mean = np.mean(TrainingData)\n",
    "std = np.std(TrainingData)\n",
    "TrainingData = (TrainingData - mean)/std\n",
    "sum(TrainingData[0,:])"
   ]
  },
  {
   "cell_type": "code",
   "execution_count": 24,
   "metadata": {},
   "outputs": [
    {
     "name": "stdout",
     "output_type": "stream",
     "text": [
      "correct ans: 1\n"
     ]
    },
    {
     "data": {
      "image/png": "[encoded data removed]",
      "text/plain": [
       "<Figure size 640x480 with 1 Axes>"
      ]
     },
     "metadata": {},
     "output_type": "display_data"
    }
   ],
   "source": [
    "# used to test later \n",
    "def DataColToImage(x):\n",
    "    image = Image.fromarray(TrainingData[x, :].reshape(28,28) * std + mean)\n",
    "    plt.imshow(image)\n",
    "    print(\"correct ans:\", dat.iloc[x, 0])\n",
    "DataColToImage(random.randint(0,42000))"
   ]
  },
  {
   "cell_type": "code",
   "execution_count": 25,
   "metadata": {},
   "outputs": [
    {
     "data": {
      "text/plain": [
       "(784,)"
      ]
     },
     "execution_count": 25,
     "metadata": {},
     "output_type": "execute_result"
    }
   ],
   "source": [
    "TrainingData[1, :].shape"
   ]
  },
  {
   "cell_type": "code",
   "execution_count": 26,
   "metadata": {},
   "outputs": [
    {
     "name": "stdout",
     "output_type": "stream",
     "text": [
      "6000\n"
     ]
    }
   ],
   "source": [
    "# separate training and test data by indexes \n",
    "testNum = 6000\n",
    "allIndex = list(range(0,42000))\n",
    "trainIndex = []\n",
    "for i in range(0, 42000 - testNum):\n",
    "    x = random.randint(0, len(allIndex) - 1)\n",
    "    trainIndex.append(allIndex[x])\n",
    "    allIndex.pop(x)\n",
    "testIndex = allIndex\n",
    "print(len(testIndex))"
   ]
  },
  {
   "cell_type": "code",
   "execution_count": 27,
   "metadata": {},
   "outputs": [
    {
     "data": {
      "text/plain": [
       "(1, 3)"
      ]
     },
     "execution_count": 27,
     "metadata": {},
     "output_type": "execute_result"
    }
   ],
   "source": [
    "x = np.array([[1,2,3],\n",
    "              [1,2,3]])\n",
    "\n",
    "y = np.array([[1,2,3]])\n",
    "\n",
    "y.shape"
   ]
  },
  {
   "cell_type": "code",
   "execution_count": 28,
   "metadata": {},
   "outputs": [
    {
     "name": "stdout",
     "output_type": "stream",
     "text": [
      "(70, 784) (90, 70) (10, 90)\n"
     ]
    },
    {
     "data": {
      "text/plain": [
       "array([[0.47893745, 0.39252905, 0.54990216, ..., 0.451808  , 0.6147732 ,\n",
       "        0.59868301],\n",
       "       [0.42590238, 0.60514057, 0.51553452, ..., 0.47548393, 0.47271572,\n",
       "        0.42244137],\n",
       "       [0.46237309, 0.44640199, 0.43430197, ..., 0.45391562, 0.58919387,\n",
       "        0.43472783],\n",
       "       ...,\n",
       "       [0.40494952, 0.61179244, 0.55759505, ..., 0.56561823, 0.61880531,\n",
       "        0.61563317],\n",
       "       [0.42386977, 0.53623979, 0.48580951, ..., 0.61560063, 0.54139931,\n",
       "        0.55411422],\n",
       "       [0.40689139, 0.40241076, 0.39902126, ..., 0.51249937, 0.47279367,\n",
       "        0.60882924]])"
      ]
     },
     "execution_count": 28,
     "metadata": {},
     "output_type": "execute_result"
    }
   ],
   "source": [
    "inputNumber = 784\n",
    "Hidden1NeuronCount = 70\n",
    "Hidden2NeuronCount = 90 \n",
    "outputCount = 10\n",
    "learningRate = 0.1\n",
    "\n",
    "# all weights from each row will lead to same neuron of the next layer \n",
    "# all weights from same column will act on same neuron of current layer\n",
    "# first row weights are all weights that lead to first neuron in the next layer, etc\n",
    "# first column weights are all weights that act on first neuron of current layer \n",
    "# weight.T = [all weights that act on first neuron of current layer]\n",
    "#          [all weights that act on second neuron of current layer], etc...\n",
    "# weight = [all weights that lead to first neuron of next layer]\n",
    "#            [all weights that lead to second neuron of next layer], etc... \n",
    "# data will be a single column\n",
    "# next layer calculated will be single column with all neurons (good)\n",
    "# h,g,f,H,G,F == inactivated and activated hidden layers and final layers respectively\n",
    "\n",
    "weights1 = np.random.uniform(-0.5,0.5,(Hidden1NeuronCount, inputNumber))\n",
    "weights2 = np.random.uniform(-0.5,0.5,(Hidden2NeuronCount, Hidden1NeuronCount))\n",
    "weights3 = np.random.uniform(-0.5,0.5,(outputCount, Hidden2NeuronCount))\n",
    "\n",
    "biases1 = np.random.uniform(-0.1,0.1,(Hidden1NeuronCount, 1))\n",
    "biases2 = np.random.uniform(-0.2,0.2,(Hidden2NeuronCount, 1))\n",
    "biases3 = np.random.uniform(-0.3,0.3,(outputCount,1))\n",
    "\n",
    "print(weights1.shape, weights2.shape, weights3.shape)\n",
    "sig(weights1)"
   ]
  },
  {
   "cell_type": "code",
   "execution_count": 29,
   "metadata": {},
   "outputs": [],
   "source": [
    "def softmax(x):\n",
    "    return np.exp(x) / np.sum(np.exp(x))\n",
    "\n",
    "def test():\n",
    "    # single test\n",
    "    randomTest = testIndex[random.randint(0, testNum-1)] # only uses testdata for testing dont use data that will be iused in raining \n",
    "    prams = forwardProp(randomTest, weights1, weights2, weights3, biases1, biases2, biases3)\n",
    "    modelAns, hidden1, hidden2, finallayer, UnactivatedHidden1, UnativatedHidden2, UnactivatedFinalLayer, data = prams\n",
    "    ans = finallayer\n",
    "    cost = np.sum((modelAns - finallayer)**2)\n",
    "    DataColToImage(randomTest)\n",
    "    print(\"predicted:\", ans.argmax())\n",
    "    return ans\n",
    "\n",
    "def testMany():\n",
    "    # test a bunch for accuracy calculations \n",
    "    correct = 0\n",
    "    wrong = 0\n",
    "    for i in range(0, testNum):\n",
    "        singleTest = testIndex[i] # only uses testdata for testing dont use data that will be iused in raining\n",
    "        finallayer = forwardProp(singleTest, weights1, weights2, weights3, biases1, biases2, biases3)[3]\n",
    "        ans = softmax(finallayer)\n",
    "        pred = ans.argmax()\n",
    "        corr = int(dat.iloc[singleTest, 0])\n",
    "        if pred == corr:\n",
    "            correct += 1\n",
    "        else:\n",
    "            wrong += 1\n",
    "    print(\"accuracy:\", str((correct/(correct + wrong))*100) + \"%\" , flush=False)\n",
    "\n"
   ]
  },
  {
   "cell_type": "code",
   "execution_count": 30,
   "metadata": {},
   "outputs": [
    {
     "data": {
      "text/plain": [
       "(10, 1)"
      ]
     },
     "execution_count": 30,
     "metadata": {},
     "output_type": "execute_result"
    }
   ],
   "source": [
    "def forwardProp(x, weight1, weight2, weight3, bias1, bias2, bias3):\n",
    "    # forward propagation \n",
    "    data = TrainingData[x,:].reshape(inputNumber,1)\n",
    "    \n",
    "    UnactivatedHidden1 = np.dot(weight1, data)\n",
    "    hidden1 = sig(UnactivatedHidden1) + bias1\n",
    "\n",
    "    UnativatedHidden2 = np.dot(weight2, hidden1)\n",
    "    hidden2 = sig(UnativatedHidden2) + bias2\n",
    "\n",
    "    UnactivatedFinalLayer = np.dot(weight3, hidden2)\n",
    "    finalLayer = sig(UnactivatedFinalLayer) + bias3\n",
    "\n",
    "    correctAns = dat.iloc[x,0]\n",
    "    modelAns = np.zeros((1,outputCount)) # create empty array\n",
    "    modelAns[0,correctAns] = 1 # make the correct index become 1 rest remain 0\n",
    "    return [modelAns, hidden1, hidden2, finalLayer, UnactivatedHidden1, UnativatedHidden2, UnactivatedFinalLayer, data]\n",
    "\n",
    "forwardProp(41999, weights1, weights2, weights3, biases1, biases2, biases3)[3].shape"
   ]
  },
  {
   "cell_type": "code",
   "execution_count": 31,
   "metadata": {},
   "outputs": [
    {
     "data": {
      "text/plain": [
       "array([[ 0.17592565],\n",
       "       [ 0.07720206],\n",
       "       [ 0.05654764],\n",
       "       [-0.12135206],\n",
       "       [ 0.22122827],\n",
       "       [-0.22855987],\n",
       "       [-0.11214764],\n",
       "       [ 0.17882296],\n",
       "       [ 0.18140139],\n",
       "       [ 0.14497557]])"
      ]
     },
     "execution_count": 31,
     "metadata": {},
     "output_type": "execute_result"
    }
   ],
   "source": [
    "biases3\n",
    "\n"
   ]
  },
  {
   "cell_type": "code",
   "execution_count": 32,
   "metadata": {},
   "outputs": [
    {
     "data": {
      "text/plain": [
       "array([2, 4, 6])"
      ]
     },
     "execution_count": 32,
     "metadata": {},
     "output_type": "execute_result"
    }
   ],
   "source": [
    "x = np.array(([1,2,3],\n",
    "             [1,2,3]))\n",
    "np.sum(x, 0)"
   ]
  },
  {
   "cell_type": "code",
   "execution_count": 33,
   "metadata": {},
   "outputs": [
    {
     "data": {
      "text/plain": [
       "0.3224303941006375"
      ]
     },
     "execution_count": 33,
     "metadata": {},
     "output_type": "execute_result"
    }
   ],
   "source": [
    "# optimise weights \n",
    "def backProp(params):\n",
    "# h,g,f,H,G,F == inactivated and activated hidden layers and final layers respectively\n",
    "    global weights1, weights2, weights3, biases1, biases2, biases3\n",
    "    modelAns, H, G, F, h, g, f, data = params\n",
    "    modelAns = modelAns.reshape(outputCount,1)\n",
    "    cost = np.mean((modelAns - F)**2)\n",
    "    \n",
    "    \n",
    "    dCdF = -2*(modelAns - F)\n",
    "    dCdf = dCdF * sigDeriv(f)\n",
    "\n",
    "    dCdG = np.sum(dCdf * weights3, 0).reshape(Hidden2NeuronCount,1)\n",
    "\n",
    "    dCostdWeights3 = np.ones_like(weights3) * G.reshape(1, Hidden2NeuronCount) * dCdf\n",
    "    \n",
    "    dGdg = sigDeriv(g)\n",
    "\n",
    "    dCdH = np.sum((dGdg * dCdG) * weights2, 0).reshape(Hidden1NeuronCount,1)\n",
    "\n",
    "    dCostdWeights2 = np.ones_like(weights2) * H.reshape(1, Hidden1NeuronCount) * dCdG * dGdg\n",
    "\n",
    "    dHdh = sigDeriv(h)\n",
    "\n",
    "    dCostdWeights1 = np.ones_like(weights1) * data.reshape(1, inputNumber) * dCdH * dHdh\n",
    "\n",
    "    dCostdBiases3 = dCdF \n",
    "    dCostdBiases2 = dCdG \n",
    "    dCostdBiases1 = dCdH\n",
    "    weights3 -= dCostdWeights3 * learningRate\n",
    "    weights2 -= dCostdWeights2 * learningRate\n",
    "    weights1 -= dCostdWeights1 * learningRate\n",
    "    biases3 -= dCostdBiases3 * learningRate\n",
    "    biases2 -= dCostdBiases2 * learningRate\n",
    "    biases1 -= dCostdBiases1 * learningRate\n",
    "    return cost\n",
    "\n",
    "backProp(forwardProp(3, weights1, weights2, weights3, biases1, biases2, biases3))"
   ]
  },
  {
   "cell_type": "code",
   "execution_count": 38,
   "metadata": {},
   "outputs": [
    {
     "name": "stdout",
     "output_type": "stream",
     "text": [
      "0. cost =  0.001714821880893386\n",
      "1000. cost =  0.000379189184408444\n",
      "2000. cost =  0.03716385047610894\n",
      "3000. cost =  0.0004643026259820125\n",
      "4000. cost =  0.00323683692284218\n",
      "5000. cost =  0.08362380189776973\n",
      "6000. cost =  0.0010223075498311082\n",
      "7000. cost =  0.11960048723175457\n",
      "8000. cost =  0.0027504368903187204\n",
      "9000. cost =  0.00036207205205334906\n",
      "10000. cost =  0.0014825205757569718\n",
      "11000. cost =  0.0009107274699400641\n",
      "12000. cost =  0.0015265451936112623\n",
      "13000. cost =  0.13059505700555674\n",
      "14000. cost =  0.001558417222468824\n",
      "15000. cost =  4.027888233084223e-05\n",
      "16000. cost =  8.114329534584928e-05\n",
      "17000. cost =  0.00022579598393503465\n",
      "18000. cost =  0.0024196710616807816\n",
      "19000. cost =  0.0002157254050423829\n",
      "20000. cost =  0.000859152286918606\n",
      "21000. cost =  0.04446035356657875\n",
      "22000. cost =  0.00041231471180697783\n",
      "23000. cost =  0.002977841667504053\n",
      "24000. cost =  6.299000436005728e-05\n",
      "25000. cost =  0.003953225063111447\n",
      "26000. cost =  0.0011620994991443877\n",
      "27000. cost =  0.0008254579735694652\n",
      "28000. cost =  0.0007536062401477197\n",
      "29000. cost =  0.0002878814979072284\n",
      "30000. cost =  0.0008248560286085854\n",
      "31000. cost =  0.00031672685721140334\n",
      "32000. cost =  0.005367548368933366\n",
      "33000. cost =  0.009002268252105147\n",
      "34000. cost =  8.692694955277125e-05\n",
      "35000. cost =  0.00016421293875279529\n"
     ]
    }
   ],
   "source": [
    "# train of some data \n",
    "for i in range(42000 - testNum):\n",
    "    x = trainIndex[i] # dont train on testdata\n",
    "    cost = backProp(forwardProp(i, weights1, weights2, weights3, biases1, biases2, biases3))\n",
    "    if i%1000 ==0: # every 1000 iteration print cost \n",
    "        print(f\"{i}. cost = \", cost)\n"
   ]
  },
  {
   "cell_type": "code",
   "execution_count": 39,
   "metadata": {},
   "outputs": [
    {
     "name": "stdout",
     "output_type": "stream",
     "text": [
      "correct ans: 6\n",
      "predicted: 6\n"
     ]
    },
    {
     "data": {
      "text/plain": [
       "array([[-1.58472413e-02],\n",
       "       [ 5.90237149e-04],\n",
       "       [ 8.62595657e-02],\n",
       "       [-1.07245400e-02],\n",
       "       [ 2.47667017e-03],\n",
       "       [-5.57276636e-03],\n",
       "       [ 1.01882861e+00],\n",
       "       [-9.94745411e-04],\n",
       "       [-1.65612207e-03],\n",
       "       [-2.03781691e-02]])"
      ]
     },
     "execution_count": 39,
     "metadata": {},
     "output_type": "execute_result"
    },
    {
     "data": {
      "image/png": "[encoded data removed]",
      "text/plain": [
       "<Figure size 640x480 with 1 Axes>"
      ]
     },
     "metadata": {},
     "output_type": "display_data"
    }
   ],
   "source": [
    "test() # do one to visualise \n"
   ]
  },
  {
   "cell_type": "code",
   "execution_count": 40,
   "metadata": {},
   "outputs": [
    {
     "name": "stdout",
     "output_type": "stream",
     "text": [
      "accuracy: 94.38333333333333%\n"
     ]
    }
   ],
   "source": [
    "testMany() # do many for accuracy calculation "
   ]
  }
 ],
 "metadata": {
  "kernelspec": {
   "display_name": "Python 3",
   "language": "python",
   "name": "python3"
  },
  "language_info": {
   "codemirror_mode": {
    "name": "ipython",
    "version": 3
   },
   "file_extension": ".py",
   "mimetype": "text/x-python",
   "name": "python",
   "nbconvert_exporter": "python",
   "pygments_lexer": "ipython3",
   "version": "3.11.9"
  }
 },
 "nbformat": 4,
 "nbformat_minor": 2
}
